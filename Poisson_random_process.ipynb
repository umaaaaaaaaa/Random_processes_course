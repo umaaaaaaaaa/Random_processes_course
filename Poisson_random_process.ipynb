{
  "nbformat": 4,
  "nbformat_minor": 0,
  "metadata": {
    "colab": {
      "provenance": [],
      "collapsed_sections": []
    },
    "kernelspec": {
      "name": "python3",
      "display_name": "Python 3"
    },
    "language_info": {
      "name": "python"
    }
  },
  "cells": [
    {
      "cell_type": "markdown",
      "source": [
        "# Modeling of the Poisson process"
      ],
      "metadata": {
        "id": "-264yNOnP05v"
      }
    },
    {
      "cell_type": "markdown",
      "source": [
        "To simulate the realisation of a Poisson process of length N with a given distribution law F(x) of intervals between jumps.\n",
        "The expectation M = 1 and the value of the coefficient of variation c = 2 are given for the distribution.\n",
        "Task:\n",
        "- Set the number of realisations K and their length T. According to the given M and c, select the parameters of the distribution F(x), simulate and present on the graph K realisations of a Poisson process of length T with a given distribution F(x).\n",
        "- Check the law of large numbers at t = T/2 and t = T\n",
        "- Check the central limit theorem for t = T/2 and t = T\n",
        "- According to the given realisations of the process, select the distribution function and test the hypothesis of agreement."
      ],
      "metadata": {
        "id": "pnCuJIWXPH_c"
      }
    },
    {
      "cell_type": "code",
      "execution_count": 1,
      "metadata": {
        "id": "Zwbl9Mo6GCUF"
      },
      "outputs": [],
      "source": [
        "import matplotlib.pyplot as plt\n",
        "import numpy as np\n",
        "from scipy import stats\n",
        "\n",
        "from scipy.stats import erlang\n",
        "import pandas as pd\n",
        "import statistics\n",
        "import math"
      ]
    },
    {
      "cell_type": "code",
      "source": [
        "M = 1\n",
        "c = 2\n",
        "sigma = 0.5 #c = sigma/M\n",
        "lambd = 4\n",
        "k = 4"
      ],
      "metadata": {
        "id": "ixUi2zbGo1jh"
      },
      "execution_count": 3,
      "outputs": []
    },
    {
      "cell_type": "code",
      "source": [
        "def generate(m, a, c, x_start, number):\n",
        "    gen_list = [x_start]\n",
        "    x_prev = x_start\n",
        "    for elt in range(number-1):\n",
        "        x_prev = (a*x_prev+c)%m\n",
        "        gen_list.append(x_prev)\n",
        "    return gen_list"
      ],
      "metadata": {
        "id": "lUn_eMqkphEY"
      },
      "execution_count": 4,
      "outputs": []
    },
    {
      "cell_type": "code",
      "source": [
        "def get_recov_processes(K, T):\n",
        "  K_big = 20000\n",
        "  k = 4\n",
        "  sum_array_0 = [[] for i in range(K)]\n",
        "  nums_of_intervals = [[] for i in range(K)]\n",
        "  for num_proc in range(K):\n",
        "    u1 = list(np.array(generate(16807, 0x7fffffff, 0, num_proc+1, K_big*4))/16807)         \n",
        "    E = [0]*K_big*4\n",
        "    for i in range(K_big):\n",
        "        for j in range(k):\n",
        "          E[i] = E[i] - 1/lambd*math.log(u1[j*K_big + i])\n",
        "\n",
        "    S = 0\n",
        "    for i in range(K_big):\n",
        "      if S<T:\n",
        "        # print(S,T)\n",
        "        S += E[i]\n",
        "        sum_array_0[num_proc].append(S)\n",
        "      else: \n",
        "        nums_of_intervals[num_proc].append(i)\n",
        "        break\n",
        "  return E, sum_array_0, nums_of_intervals"
      ],
      "metadata": {
        "id": "mN1mPKL_cs9L"
      },
      "execution_count": 10,
      "outputs": []
    },
    {
      "cell_type": "code",
      "source": [
        "sum_array_0 = []\n",
        "S = 0\n",
        "nums_of_intervals =  0\n",
        "for i in range(K_big):\n",
        "  if S<T:\n",
        "    # print(S,T)\n",
        "    S += E[i]\n",
        "    sum_array_0.append(S)\n",
        "    nums_of_intervals +=1\n",
        "  else: break"
      ],
      "metadata": {
        "id": "jhnb1vZrU4Vr"
      },
      "execution_count": null,
      "outputs": []
    },
    {
      "cell_type": "code",
      "source": [
        "K = 50\n",
        "T = 50"
      ],
      "metadata": {
        "id": "VkX3j8NUIMWg"
      },
      "execution_count": 2,
      "outputs": []
    },
    {
      "cell_type": "code",
      "source": [
        "E_0, sum_array_0, nums_of_intervals_0 = get_recov_processes(K, T)"
      ],
      "metadata": {
        "id": "eaDUIvVVSSAN"
      },
      "execution_count": 11,
      "outputs": []
    },
    {
      "cell_type": "code",
      "source": [
        "for i in range(K):\n",
        "  x = np.array(sum_array_0[i])\n",
        "  y = np.array([i for i in range(nums_of_intervals_0[i][0])])\n",
        "    \n",
        "  plt.step(x, y)\n",
        "  plt.xlabel('t');\n",
        "  plt.ylabel('N(t)');\n",
        "  plt.title('Poisson processes for Erlang-distributed intervals');\n",
        "plt.show()\n"
      ],
      "metadata": {
        "id": "Fo17nrhksyq_",
        "colab": {
          "base_uri": "https://localhost:8080/",
          "height": 295
        },
        "outputId": "8aa1d117-20f9-49c3-83e4-5b884073e30e"
      },
      "execution_count": 12,
      "outputs": [
        {
          "output_type": "display_data",
          "data": {
            "text/plain": [
              "<Figure size 432x288 with 1 Axes>"
            ],
            "image/png": "[encoded data removed]"
          },
          "metadata": {
            "needs_background": "light"
          }
        }
      ]
    },
    {
      "cell_type": "code",
      "source": [
        "plt.hist(E_0, bins = 40);"
      ],
      "metadata": {
        "id": "CAAESCxgCkhe",
        "colab": {
          "base_uri": "https://localhost:8080/",
          "height": 265
        },
        "outputId": "e460c2b6-7109-4d13-c6ed-0d5d66211364"
      },
      "execution_count": 14,
      "outputs": [
        {
          "output_type": "display_data",
          "data": {
            "text/plain": [
              "<Figure size 432x288 with 1 Axes>"
            ],
            "image/png": "[encoded data removed]"
          },
          "metadata": {
            "needs_background": "light"
          }
        }
      ]
    },
    {
      "cell_type": "markdown",
      "source": [
        "# Checking the law of large numbers\n"
      ],
      "metadata": {
        "id": "u6XdJD2mgeN8"
      }
    },
    {
      "cell_type": "code",
      "source": [
        "_, sum_array_1, nums_of_intervals_1 = get_recov_processes(K = 1,T = 500)\n",
        "N_t = list(range(nums_of_intervals_1[0][0]))\n",
        "t = sum_array_1[0]"
      ],
      "metadata": {
        "id": "isujDWfjUKwQ"
      },
      "execution_count": 93,
      "outputs": []
    },
    {
      "cell_type": "code",
      "source": [
        "num_avg = []\n",
        "for i in range(len(t)):\n",
        "    num_avg.append(N_t[i]/t[i])\n",
        "\n",
        "M = 1\n",
        "plt.axhline(y = M, color = 'r', linestyle = '-', label = 'Theoretical average')\n",
        "plt.plot(num_avg, label = 'Sample average');\n",
        "plt.xlabel('t');\n",
        "plt.ylabel('N(t)/t');\n",
        "plt.title('The law of large numbers with t = T');\n",
        "plt.legend();"
      ],
      "metadata": {
        "colab": {
          "base_uri": "https://localhost:8080/",
          "height": 295
        },
        "id": "aT9KPrhVhWcf",
        "outputId": "44d82a82-07b5-4458-8122-c4a467c8635f"
      },
      "execution_count": 99,
      "outputs": [
        {
          "output_type": "display_data",
          "data": {
            "text/plain": [
              "<Figure size 432x288 with 1 Axes>"
            ],
            "image/png": "[encoded data removed]"
          },
          "metadata": {
            "needs_background": "light"
          }
        }
      ]
    },
    {
      "cell_type": "code",
      "source": [
        "N_t = list(range(nums_of_intervals_1[0][0]))"
      ],
      "metadata": {
        "id": "p52tBYr9gU60"
      },
      "execution_count": null,
      "outputs": []
    },
    {
      "cell_type": "code",
      "source": [
        "t_2 = [time for time in sum_array_1[0] if time < T/2]"
      ],
      "metadata": {
        "id": "6UgZUjxfeZfR"
      },
      "execution_count": 96,
      "outputs": []
    },
    {
      "cell_type": "code",
      "source": [
        "num_avg = []\n",
        "for i in range(len(t_2)):\n",
        "    num_avg.append(i/t_2[i])\n",
        "\n",
        "M = 1\n",
        "plt.axhline(y = M, color = 'r', linestyle = '-', label = 'Theoretical average')\n",
        "plt.plot(num_avg, label = 'Sample average');\n",
        "plt.xlabel('t');\n",
        "plt.ylabel('N(t)/t');\n",
        "plt.title('The law of large numbers with t = T/2');\n",
        "plt.legend();"
      ],
      "metadata": {
        "colab": {
          "base_uri": "https://localhost:8080/",
          "height": 295
        },
        "id": "qQrmJ5zfgx9_",
        "outputId": "f5fe0087-3db1-42e2-c4d2-1d184c202707"
      },
      "execution_count": 102,
      "outputs": [
        {
          "output_type": "display_data",
          "data": {
            "text/plain": [
              "<Figure size 432x288 with 1 Axes>"
            ],
            "image/png": "[encoded data removed]"
          },
          "metadata": {
            "needs_background": "light"
          }
        }
      ]
    },
    {
      "cell_type": "markdown",
      "source": [
        "# Checking the central limit theorem"
      ],
      "metadata": {
        "id": "fWSI0470nso9"
      }
    },
    {
      "cell_type": "code",
      "source": [
        "def get_num_norm(K, T):\n",
        "  t = T\n",
        "  N_t = [0]*K\n",
        "  max_N = [0]*K\n",
        "  for i in range(K):\n",
        "    for j, elem in enumerate(sum_array_2[i]):\n",
        "      if elem <= t:\n",
        "        # N_t[i] = j\n",
        "        max_N[i] += 1 \n",
        "\n",
        "  num_norm = []\n",
        "  for i in range(K):\n",
        "    val = (max_N[i] - statistics.mean(max_N))/(statistics.stdev(max_N))\n",
        "    num_norm.append(val)\n",
        "  return num_norm"
      ],
      "metadata": {
        "id": "POLB9FsPbGTf"
      },
      "execution_count": 59,
      "outputs": []
    },
    {
      "cell_type": "code",
      "source": [
        "_, sum_array_2, nums_of_intervals_2 = get_recov_processes(K = 100,T = 100)"
      ],
      "metadata": {
        "id": "4A01LIBCF9rN"
      },
      "execution_count": 55,
      "outputs": []
    },
    {
      "cell_type": "code",
      "source": [
        "num_norm = get_num_norm(K = 100,T = 100)"
      ],
      "metadata": {
        "id": "Zi_Bx3Znbdzj"
      },
      "execution_count": 60,
      "outputs": []
    },
    {
      "cell_type": "code",
      "source": [
        "plt.hist(num_norm, density=True);"
      ],
      "metadata": {
        "colab": {
          "base_uri": "https://localhost:8080/",
          "height": 265
        },
        "id": "HrBHEEV7au1G",
        "outputId": "d24142d5-a101-4b4e-d1fc-1705cc1aaeee"
      },
      "execution_count": 61,
      "outputs": [
        {
          "output_type": "display_data",
          "data": {
            "text/plain": [
              "<Figure size 432x288 with 1 Axes>"
            ],
            "image/png": "[encoded data removed]"
          },
          "metadata": {
            "needs_background": "light"
          }
        }
      ]
    },
    {
      "cell_type": "code",
      "source": [
        "stats.kstest(num_norm, 'norm')"
      ],
      "metadata": {
        "colab": {
          "base_uri": "https://localhost:8080/"
        },
        "id": "Ze15ux2ZbBnF",
        "outputId": "d1db74ee-ff18-4ae5-e77b-b96fc2f44a87"
      },
      "execution_count": 58,
      "outputs": [
        {
          "output_type": "execute_result",
          "data": {
            "text/plain": [
              "KstestResult(statistic=0.08085802793543595, pvalue=0.5045661392249077)"
            ]
          },
          "metadata": {},
          "execution_count": 58
        }
      ]
    },
    {
      "cell_type": "code",
      "source": [
        "num_norm = get_num_norm(K = 100,T = 50)"
      ],
      "metadata": {
        "id": "my91q4OabnxK"
      },
      "execution_count": 62,
      "outputs": []
    },
    {
      "cell_type": "code",
      "source": [
        "plt.hist(num_norm, density=True);"
      ],
      "metadata": {
        "colab": {
          "base_uri": "https://localhost:8080/",
          "height": 265
        },
        "id": "ct29AlVUDF8_",
        "outputId": "5d62595b-02f2-4259-d884-397e14aa7600"
      },
      "execution_count": 63,
      "outputs": [
        {
          "output_type": "display_data",
          "data": {
            "text/plain": [
              "<Figure size 432x288 with 1 Axes>"
            ],
            "image/png": "[encoded data removed]"
          },
          "metadata": {
            "needs_background": "light"
          }
        }
      ]
    },
    {
      "cell_type": "code",
      "source": [
        "stats.kstest(num_norm, 'norm')"
      ],
      "metadata": {
        "colab": {
          "base_uri": "https://localhost:8080/"
        },
        "id": "CNSY_J7too9k",
        "outputId": "353df31d-0902-408b-9671-9a78ff3e2543"
      },
      "execution_count": 64,
      "outputs": [
        {
          "output_type": "execute_result",
          "data": {
            "text/plain": [
              "KstestResult(statistic=0.08810012705744186, pvalue=0.3965373977216896)"
            ]
          },
          "metadata": {},
          "execution_count": 64
        }
      ]
    },
    {
      "cell_type": "markdown",
      "source": [
        "# Checking the distribution?\n"
      ],
      "metadata": {
        "id": "4cLTd8LkwFJT"
      }
    },
    {
      "cell_type": "code",
      "source": [
        "_, sum_array_0, nums_of_intervals = get_recov_processes(100, 100)"
      ],
      "metadata": {
        "id": "Lg-HW_khn1Z4"
      },
      "execution_count": 80,
      "outputs": []
    },
    {
      "cell_type": "code",
      "source": [
        "K = 100\n",
        "t = 100\n",
        "N_t = [0]*K\n",
        "max_N = [0]*K\n",
        "for i in range(K):\n",
        "  for j, elem in enumerate(sum_array_0[i]):\n",
        "    if elem <= t:\n",
        "      max_N[i] += 1 "
      ],
      "metadata": {
        "id": "ZOvT__0RlIoD"
      },
      "execution_count": 81,
      "outputs": []
    },
    {
      "cell_type": "code",
      "source": [
        "plt.hist(max_N, bins = 20);"
      ],
      "metadata": {
        "colab": {
          "base_uri": "https://localhost:8080/",
          "height": 265
        },
        "id": "e3W1kLpBdVr5",
        "outputId": "d3f5b310-731e-4239-8fb0-29b13e7399a9"
      },
      "execution_count": 82,
      "outputs": [
        {
          "output_type": "display_data",
          "data": {
            "text/plain": [
              "<Figure size 432x288 with 1 Axes>"
            ],
            "image/png": "[encoded data removed]"
          },
          "metadata": {
            "needs_background": "light"
          }
        }
      ]
    },
    {
      "cell_type": "code",
      "source": [
        "stats.kstest(max_N,'norm')"
      ],
      "metadata": {
        "colab": {
          "base_uri": "https://localhost:8080/"
        },
        "id": "aAG5RHG-lIq-",
        "outputId": "80bd5850-2a76-4589-e37d-8f3c988b495e"
      },
      "execution_count": 83,
      "outputs": [
        {
          "output_type": "execute_result",
          "data": {
            "text/plain": [
              "KstestResult(statistic=1.0, pvalue=0.0)"
            ]
          },
          "metadata": {},
          "execution_count": 83
        }
      ]
    },
    {
      "cell_type": "code",
      "source": [
        "from scipy.stats import poisson\n",
        "\n",
        "K = len(max_N)\n",
        "num_interv = 6\n",
        "\n",
        "mu=statistics.mean(max_N)\n",
        "std_1=statistics.stdev(max_N)\n",
        "pmax=max(max_N);\n",
        "pmin=min(sorted(max_N)[1:]);\n",
        "dis=(pmax-pmin)/(num_interv-1);\n",
        "num=[0]*num_interv\n",
        "\n",
        "i=0;\n",
        "while i<num_interv:\n",
        "  for j in range(i, K):\n",
        "    if (max_N[j]>=pmin) and (max_N[j]<pmin+dis):\n",
        "      num[i]=num[i]+1\n",
        "  pmin=pmin+dis\n",
        "  i=i+1\n",
        "\n",
        "pmin=min(max_N);\n",
        "\n",
        "F = [0]*num_interv\n",
        "F[0]=poisson.cdf(pmin,mu)\n",
        "F[1]=poisson.cdf(pmin+dis,mu)\n",
        "F[2]=poisson.cdf(pmin+2*dis,mu)\n",
        "F[3]=poisson.cdf(pmin+3*dis,mu)\n",
        "F[4]=poisson.cdf(pmin+4*dis,mu)\n",
        "F[5]=poisson.cdf(pmax,mu)\n",
        "\n",
        "\n",
        "p = [0]*num_interv\n",
        "p[0] = F[0]\n",
        "for i in range(1,num_interv-1):\n",
        "  p[i]=F[i]-F[i-1]\n",
        "p[5] = 1 - F[5]\n",
        "\n",
        "k = 0\n",
        "for i in range(num_interv):\n",
        "  k = k+((num[i]-K*p[i])**2)/(K*p[i])\n",
        "k"
      ],
      "metadata": {
        "colab": {
          "base_uri": "https://localhost:8080/"
        },
        "id": "rL6WzWzelItd",
        "outputId": "87a99200-4986-4b40-9615-4974bfa1274a"
      },
      "execution_count": 84,
      "outputs": [
        {
          "output_type": "execute_result",
          "data": {
            "text/plain": [
              "48.36742150484645"
            ]
          },
          "metadata": {},
          "execution_count": 84
        }
      ]
    },
    {
      "cell_type": "markdown",
      "source": [
        "The deviation is too large"
      ],
      "metadata": {
        "id": "kO-1En2Xd6b1"
      }
    },
    {
      "cell_type": "code",
      "source": [
        "num"
      ],
      "metadata": {
        "id": "zDGhJEUinTE2",
        "outputId": "ce4194c5-65e9-4a2b-df03-5f9b4ae6d6ce",
        "colab": {
          "base_uri": "https://localhost:8080/"
        }
      },
      "execution_count": 85,
      "outputs": [
        {
          "output_type": "execute_result",
          "data": {
            "text/plain": [
              "[17, 24, 36, 18, 2, 1]"
            ]
          },
          "metadata": {},
          "execution_count": 85
        }
      ]
    },
    {
      "cell_type": "code",
      "source": [
        "p"
      ],
      "metadata": {
        "colab": {
          "base_uri": "https://localhost:8080/"
        },
        "id": "80y0c4eLmHLK",
        "outputId": "abf5a793-512c-432e-c6a7-b12945fa428e"
      },
      "execution_count": 86,
      "outputs": [
        {
          "output_type": "execute_result",
          "data": {
            "text/plain": [
              "[0.14119067277253525,\n",
              " 0.11457821804159454,\n",
              " 0.18785477052085547,\n",
              " 0.19843873434045461,\n",
              " 0.16342880825229,\n",
              " 0.07381032598558801]"
            ]
          },
          "metadata": {},
          "execution_count": 86
        }
      ]
    },
    {
      "cell_type": "code",
      "source": [
        "sum(p)"
      ],
      "metadata": {
        "colab": {
          "base_uri": "https://localhost:8080/"
        },
        "id": "qHWk29SjlIwT",
        "outputId": "944c923c-65c0-4a2a-bb0f-4ab8a54585b8"
      },
      "execution_count": 87,
      "outputs": [
        {
          "output_type": "execute_result",
          "data": {
            "text/plain": [
              "0.8793015299133179"
            ]
          },
          "metadata": {},
          "execution_count": 87
        }
      ]
    }
  ]
}