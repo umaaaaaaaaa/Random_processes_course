{
  "nbformat": 4,
  "nbformat_minor": 0,
  "metadata": {
    "colab": {
      "provenance": [],
      "collapsed_sections": []
    },
    "kernelspec": {
      "name": "python3",
      "display_name": "Python 3"
    },
    "language_info": {
      "name": "python"
    }
  },
  "cells": [
    {
      "cell_type": "markdown",
      "source": [
        "# Modeling and analysis of the Markov process"
      ],
      "metadata": {
        "id": "f7u1FAetXb-K"
      }
    },
    {
      "cell_type": "markdown",
      "source": [
        "1. It is required to simulate M realizations of the Markov process defined by the matrix of transition intensities Λ. The process can be in one of three states: {1, 2, 3}. For all implementations of the process, set a time limit t ≤ T.\n",
        "2. Build implementation trajectories. For a given state, check the fulfillment of the central limit theorem and the law of large numbers."
      ],
      "metadata": {
        "id": "Bw5-Z1S9Xxo6"
      }
    },
    {
      "cell_type": "markdown",
      "source": [
        "- https://books.ifmo.ru/file/pdf/471.pdf - A good book on random processes"
      ],
      "metadata": {
        "id": "7qcENVy3BNBE"
      }
    },
    {
      "cell_type": "code",
      "source": [
        "import statistics\n",
        "import numpy as np\n",
        "import math\n",
        "import matplotlib.pyplot as plt\n",
        "import random\n",
        "from scipy import stats\n",
        "import math"
      ],
      "metadata": {
        "id": "bm41KCtE9Hx6"
      },
      "execution_count": 1,
      "outputs": []
    },
    {
      "cell_type": "markdown",
      "source": [
        "### The uniform distribution generator from Knuth's book"
      ],
      "metadata": {
        "id": "8aSQifEsE_NL"
      }
    },
    {
      "cell_type": "code",
      "source": [
        "def generate(m, a, c, x_start, number):\n",
        "    gen_list = []\n",
        "    x_prev = x_start\n",
        "    for elt in range(number):\n",
        "        x_prev = (a*x_prev+c)%m\n",
        "        gen_list.append(x_prev)\n",
        "    return gen_list"
      ],
      "metadata": {
        "id": "hBJtxFXBN7vy"
      },
      "execution_count": 7,
      "outputs": []
    },
    {
      "cell_type": "markdown",
      "source": [
        "### Randomly set the initial state for the process"
      ],
      "metadata": {
        "id": "qXJDMKNkFSEz"
      }
    },
    {
      "cell_type": "code",
      "source": [
        "def get_start_cond(i):\n",
        "  u = generate(16807, 0x7fffffff, 0, 150+i, 1)[0]/16807\n",
        "  if u <= 1/3: return 0\n",
        "  if (u <=2/3) and (u>1/3): return 1\n",
        "  if u > 2/3: return 2"
      ],
      "metadata": {
        "id": "8kSNY2TiOOjB"
      },
      "execution_count": 5,
      "outputs": []
    },
    {
      "cell_type": "markdown",
      "source": [
        "### Generation of the Markov process"
      ],
      "metadata": {
        "id": "sQv42qr-HMmq"
      }
    },
    {
      "cell_type": "markdown",
      "source": [
        "- K sets the number of Markov processes\n",
        "- T sets the the duration of the process"
      ],
      "metadata": {
        "id": "uh3ZNQQZFvDp"
      }
    },
    {
      "cell_type": "code",
      "source": [
        "def gen_markov(K,T):\n",
        "  condition = [[get_start_cond(i)] for i in range(K)]\n",
        "  time = [[0] for i in range(K)]\n",
        "  times = [[0] for i in range(K)]\n",
        "\n",
        "  for k in range(K):\n",
        "    tau=[]\n",
        "    t = []\n",
        "    maxtime = 0\n",
        "    i=condition[k][0]\n",
        "    while maxtime<=T:\n",
        "        for j in range(3):\n",
        "          q=random.randint(0,100)\n",
        "          uni = generate(16807, 0x7fffffff, 0, 20+q, 1)[0]/16807\n",
        "          tau.append((-1/L[i][j])*(math.log(uni)))\n",
        "          if tau[j]<0:\n",
        "            tau[j]=10000\n",
        "        mintau=min(tau)\n",
        "        t.append(mintau)\n",
        "        if time[k] == [0]:\n",
        "          time[k][0] = mintau\n",
        "          times[k][0] = mintau\n",
        "          maxtime = mintau\n",
        "        else:\n",
        "          time[k].append(time[k][-1]+mintau)\n",
        "          times[k].append(mintau)\n",
        "          maxtime = time[k][-1]\n",
        "        condition[k].append(int(tau.index(mintau)))\n",
        "        i = int(tau.index(mintau))\n",
        "        tau=[]\n",
        "  return time, times, condition"
      ],
      "metadata": {
        "id": "JrUYA8KLHL8_"
      },
      "execution_count": 24,
      "outputs": []
    },
    {
      "cell_type": "markdown",
      "source": [
        "### Defining the transition intensity matrix"
      ],
      "metadata": {
        "id": "_ompnr4nEc_E"
      }
    },
    {
      "cell_type": "code",
      "source": [
        "L = np.array([[-0.56, 0.16, 0.4],[0.2, -0.25, 0.05],[0.13, 0.1, -0.23]])"
      ],
      "metadata": {
        "id": "GD84PFXsAZfj"
      },
      "execution_count": 2,
      "outputs": []
    },
    {
      "cell_type": "code",
      "source": [
        "P = [L[i]/abs(L[i][i]) for i in range(3)]\n",
        "for i in range(3):\n",
        "  P[i][i]=0 \n",
        "P"
      ],
      "metadata": {
        "id": "mknRZ5DUNAEG",
        "colab": {
          "base_uri": "https://localhost:8080/"
        },
        "outputId": "0fca4308-6f06-43aa-c82d-42e4b987a65e"
      },
      "execution_count": 3,
      "outputs": [
        {
          "output_type": "execute_result",
          "data": {
            "text/plain": [
              "[array([0.        , 0.28571429, 0.71428571]),\n",
              " array([0.8, 0. , 0.2]),\n",
              " array([0.56521739, 0.43478261, 0.        ])]"
            ]
          },
          "metadata": {},
          "execution_count": 3
        }
      ]
    },
    {
      "cell_type": "code",
      "source": [
        "K = 5\n",
        "T = 100\n",
        "time_1, _ , condition_1 = gen_markov(K, T)\n",
        "for i in range(K):\n",
        "  x = np.array(time_1[i])\n",
        "  y = np.array(condition_1[i][:-1])\n",
        "    \n",
        "  plt.step(x, y)\n",
        "  plt.xlabel('t');\n",
        "  plt.ylabel('State');\n",
        "  plt.title('Realization of the Markov process');\n",
        "plt.show()"
      ],
      "metadata": {
        "colab": {
          "base_uri": "https://localhost:8080/",
          "height": 295
        },
        "id": "qv1kS1rmHsC1",
        "outputId": "981b48cb-e62b-4360-909a-6c280094c6a2"
      },
      "execution_count": 25,
      "outputs": [
        {
          "output_type": "display_data",
          "data": {
            "text/plain": [
              "<Figure size 432x288 with 1 Axes>"
            ],
            "image/png": "[encoded data removed]"
          },
          "metadata": {
            "needs_background": "light"
          }
        }
      ]
    },
    {
      "cell_type": "markdown",
      "source": [
        "# Checking the law of large numbers(T = 200, K = 3)"
      ],
      "metadata": {
        "id": "FJva56Xu0Tvf"
      }
    },
    {
      "cell_type": "code",
      "source": [
        "K = 3\n",
        "T = 200\n",
        "time_2, times_2 , condition_2 = gen_markov(K, T)\n",
        "x_0 = np.array(time_2[0])\n",
        "y_0 = np.array(condition_2[0][:-1])\n",
        "  \n",
        "plt.step(x_0, y_0)\n",
        "plt.xlabel('t');\n",
        "plt.ylabel('State');\n",
        "plt.title('Realization of the Markov process');"
      ],
      "metadata": {
        "colab": {
          "base_uri": "https://localhost:8080/",
          "height": 295
        },
        "id": "LkiwAwMdwihA",
        "outputId": "e232057e-b386-4ede-84ae-0fd3db4e8e0d"
      },
      "execution_count": 30,
      "outputs": [
        {
          "output_type": "display_data",
          "data": {
            "text/plain": [
              "<Figure size 432x288 with 1 Axes>"
            ],
            "image/png": "[encoded data removed]"
          },
          "metadata": {
            "needs_background": "light"
          }
        }
      ]
    },
    {
      "cell_type": "code",
      "source": [
        "times_0 = np.array(times_2[0])\n",
        "time_to_cond = dict(zip(list(times_0), list(y_0)))\n",
        "\n",
        "cond_0 = [k for k, v in time_to_cond.items() if v == 0]\n",
        "cond_1 = [k for k, v in time_to_cond.items() if v == 1]\n",
        "cond_2 = [k for k, v in time_to_cond.items() if v == 2]\n",
        "\n",
        "p_0 = sum(cond_0)/T\n",
        "p_1 = sum(cond_1)/T\n",
        "p_2 = sum(cond_2)/T\n",
        "\n",
        "print(\"Empirical probabilities\")\n",
        "p_0, p_1, p_2"
      ],
      "metadata": {
        "colab": {
          "base_uri": "https://localhost:8080/"
        },
        "id": "X4dvFDLB1x1O",
        "outputId": "0700cc5d-6ad2-47ac-96d1-16354e0f29fd"
      },
      "execution_count": 32,
      "outputs": [
        {
          "output_type": "stream",
          "name": "stdout",
          "text": [
            "Empirical probabilities\n"
          ]
        },
        {
          "output_type": "execute_result",
          "data": {
            "text/plain": [
              "(0.18873659830612083, 0.3389836919605094, 0.47374612029697794)"
            ]
          },
          "metadata": {},
          "execution_count": 32
        }
      ]
    },
    {
      "cell_type": "markdown",
      "source": [
        "# Checking the central limit theorem (K = 200, T = 100)\n"
      ],
      "metadata": {
        "id": "2BFYCaTz4hV8"
      }
    },
    {
      "cell_type": "markdown",
      "source": [
        "![формула2.png](data:image/png;base64,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)"
      ],
      "metadata": {
        "id": "DETKyYl8V4DB"
      }
    },
    {
      "cell_type": "code",
      "source": [
        "# theoretical probabilities are obtained from system of linear algebraic equations\n",
        "p_0_teor = 0.2212\n",
        "p_1_teor = 0.3236\n",
        "p_2_teor = 0.4551\n",
        "\n",
        "K = 200\n",
        "T = 100\n",
        "time_3, times_3 , condition_3 = gen_markov(K, T)\n",
        "\n",
        "p_0 = []\n",
        "p_1 = []\n",
        "p_2 = []\n",
        "for k in range(K):\n",
        "  x_0 = np.array(time_3[k])\n",
        "  y_0 = np.array(condition_3[k][:-1])\n",
        "  times_0 = np.array(times_3[k])\n",
        "  time_to_cond = dict(zip(list(times_0), list(y_0)))\n",
        "  p_0.append(sum([k for k, v in time_to_cond.items() if v == 0])/T) # summarizing the theoretical probabilities\n",
        "  p_1.append(sum([k for k, v in time_to_cond.items() if v == 1])/T)\n",
        "  p_2.append(sum([k for k, v in time_to_cond.items() if v == 2])/T)"
      ],
      "metadata": {
        "id": "YV2Bzlyd8fUJ"
      },
      "execution_count": 34,
      "outputs": []
    },
    {
      "cell_type": "code",
      "source": [
        "dist = np.array(p_0) - p_0_teor\n",
        "dispersia = math.sqrt(sum((np.array(p_0) - (1/K)*sum(p_0))**2)/K)\n",
        "Norm_0 = dist/dispersia"
      ],
      "metadata": {
        "id": "k_5UZEbCE9wp"
      },
      "execution_count": 48,
      "outputs": []
    },
    {
      "cell_type": "code",
      "source": [
        "plt.hist(Norm_0, bins = 20);"
      ],
      "metadata": {
        "colab": {
          "base_uri": "https://localhost:8080/",
          "height": 265
        },
        "id": "7YT_sgYMGSTC",
        "outputId": "e557a969-64ec-43d9-e473-96fc603876e5"
      },
      "execution_count": 51,
      "outputs": [
        {
          "output_type": "display_data",
          "data": {
            "text/plain": [
              "<Figure size 432x288 with 1 Axes>"
            ],
            "image/png": "[encoded data removed]"
          },
          "metadata": {
            "needs_background": "light"
          }
        }
      ]
    },
    {
      "cell_type": "code",
      "source": [
        "stats.kstest(Norm_0, 'norm')"
      ],
      "metadata": {
        "colab": {
          "base_uri": "https://localhost:8080/"
        },
        "id": "PI5nN59uAJKB",
        "outputId": "e4ea74a2-43b4-45a2-9ebe-676eda26b62c"
      },
      "execution_count": 40,
      "outputs": [
        {
          "output_type": "execute_result",
          "data": {
            "text/plain": [
              "KstestResult(statistic=0.05750055781575775, pvalue=0.5045589680699044)"
            ]
          },
          "metadata": {},
          "execution_count": 40
        }
      ]
    },
    {
      "cell_type": "markdown",
      "source": [
        "Therefore, we do not reject the hypothesis of the normality of the distribution"
      ],
      "metadata": {
        "id": "cX-A6wYcWL-f"
      }
    }
  ]
}