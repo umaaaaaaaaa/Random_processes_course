{
  "nbformat": 4,
  "nbformat_minor": 0,
  "metadata": {
    "colab": {
      "provenance": [],
      "collapsed_sections": []
    },
    "kernelspec": {
      "name": "python3",
      "display_name": "Python 3"
    },
    "language_info": {
      "name": "python"
    }
  },
  "cells": [
    {
      "cell_type": "markdown",
      "source": [
        "Task:\n",
        "- Implement a uniform distribution number generator. To test the hypothesis about the uniformity of the distribution.\n",
        "- On the basis of a uniform distribution, make a normal distribution. To test the hypothesis of the normality of the distribution.\n",
        "- To make a sample from the values of Kolmogorov statistics for 100 simulated normal distributions."
      ],
      "metadata": {
        "id": "hN0Z8qtmY8em"
      }
    },
    {
      "cell_type": "code",
      "execution_count": 1,
      "metadata": {
        "id": "3oATSCzl0GKj"
      },
      "outputs": [],
      "source": [
        "import random\n",
        "import pandas as pd\n",
        "import matplotlib.pyplot as plt\n",
        "import numpy as np\n",
        "from scipy import stats"
      ]
    },
    {
      "cell_type": "markdown",
      "source": [
        "- m, module; 0 < m; \n",
        "- а, multiplier; 0 < а < m; \n",
        "- с, increment; 0 < с < m;  \n",
        "- X(0), initial value; 0 =< X(0) < m. \n",
        "\n",
        "The desired sequence of random numbers: \n",
        "X(n+i) = (а*Х(n) + с) mod m, n >= 0.  "
      ],
      "metadata": {
        "id": "0VX-kWqhTm7d"
      }
    },
    {
      "cell_type": "code",
      "source": [
        "def generate(m, a, c, x_start, number):\n",
        "    gen_list = [x_start]\n",
        "    x_prev = x_start\n",
        "    for elt in range(number-1):\n",
        "        x_prev = (a*x_prev+c)%m\n",
        "        gen_list.append(x_prev)\n",
        "    return gen_list"
      ],
      "metadata": {
        "id": "LYExXTSIUWrR"
      },
      "execution_count": 2,
      "outputs": []
    },
    {
      "cell_type": "markdown",
      "source": [
        "### Example with bad params in function \"geterate\""
      ],
      "metadata": {
        "id": "4rUUFZBRaBrx"
      }
    },
    {
      "cell_type": "code",
      "source": [
        "N = 100\n",
        "n = range(N)\n",
        "l1 = np.array(generate(10, 7, 7, 7, 100))/10\n",
        "plt.figure(figsize=(15, 7))\n",
        "\n",
        "plt.subplot(1,2,1)\n",
        "plt.plot(n, l1, '.')\n",
        "plt.title('Distrubution u1');"
      ],
      "metadata": {
        "colab": {
          "base_uri": "https://localhost:8080/",
          "height": 444
        },
        "id": "CxohqorhZNJK",
        "outputId": "9c78d732-14d2-4bbd-cda2-34e94ccc4eea"
      },
      "execution_count": 3,
      "outputs": [
        {
          "output_type": "display_data",
          "data": {
            "text/plain": [
              "<Figure size 1080x504 with 1 Axes>"
            ],
            "image/png": "[encoded data removed]"
          },
          "metadata": {
            "needs_background": "light"
          }
        }
      ]
    },
    {
      "cell_type": "markdown",
      "source": [
        "### Example with suitable params in function \"geterate\""
      ],
      "metadata": {
        "id": "TkKePTPBaKTm"
      }
    },
    {
      "cell_type": "code",
      "source": [
        "N = 100\n",
        "n = range(N)\n",
        "random.seed(17)\n",
        "u1 = np.array(generate(16807, 0x7fffffff, 0, 7, N))/16807\n",
        "u2 = np.array(generate(16807, 0x7fffffff, 0, 5, N))/16807\n",
        "\n",
        "plt.figure(figsize=(15, 7))\n",
        "\n",
        "plt.subplot(1,2,1)\n",
        "plt.plot(n, u1, '.')\n",
        "plt.title('Distrubution u1')\n",
        "plt.subplot(1,2,2)\n",
        "plt.plot(n, u2, '.')\n",
        "plt.title('Distrubution u2')\n",
        "plt.show()"
      ],
      "metadata": {
        "colab": {
          "base_uri": "https://localhost:8080/",
          "height": 444
        },
        "id": "JaJpLTxt3HNd",
        "outputId": "014fcf0b-2bf0-4d55-e96a-276c317268e4"
      },
      "execution_count": 4,
      "outputs": [
        {
          "output_type": "display_data",
          "data": {
            "text/plain": [
              "<Figure size 1080x504 with 2 Axes>"
            ],
            "image/png": "[encoded data removed]"
          },
          "metadata": {
            "needs_background": "light"
          }
        }
      ]
    },
    {
      "cell_type": "code",
      "source": [
        "stats.kstest(u1, \"uniform\") "
      ],
      "metadata": {
        "colab": {
          "base_uri": "https://localhost:8080/"
        },
        "id": "xvntI55fhfro",
        "outputId": "0b2724be-4940-41e0-fcc9-71888fe1243c"
      },
      "execution_count": 5,
      "outputs": [
        {
          "output_type": "execute_result",
          "data": {
            "text/plain": [
              "KstestResult(statistic=0.06560599750104124, pvalue=0.7574460367157285)"
            ]
          },
          "metadata": {},
          "execution_count": 5
        }
      ]
    },
    {
      "cell_type": "code",
      "source": [
        "stats.kstest(u2, \"uniform\") "
      ],
      "metadata": {
        "colab": {
          "base_uri": "https://localhost:8080/"
        },
        "id": "DKsaKu9z8Pi7",
        "outputId": "a9fe6bb0-b050-424b-8e25-a8474862c51b"
      },
      "execution_count": 6,
      "outputs": [
        {
          "output_type": "execute_result",
          "data": {
            "text/plain": [
              "KstestResult(statistic=0.0768411971202475, pvalue=0.5696779015482883)"
            ]
          },
          "metadata": {},
          "execution_count": 6
        }
      ]
    },
    {
      "cell_type": "code",
      "source": [
        "u11 = pd.Series(u1)\n",
        "u11.hist();"
      ],
      "metadata": {
        "colab": {
          "base_uri": "https://localhost:8080/",
          "height": 265
        },
        "id": "bEMBylu3d7t_",
        "outputId": "ba44ffea-3cb3-48d0-cab2-a29b55487713"
      },
      "execution_count": 7,
      "outputs": [
        {
          "output_type": "display_data",
          "data": {
            "text/plain": [
              "<Figure size 432x288 with 1 Axes>"
            ],
            "image/png": "[encoded data removed]"
          },
          "metadata": {
            "needs_background": "light"
          }
        }
      ]
    },
    {
      "cell_type": "markdown",
      "source": [
        "### Modeling of the normal distribution using a uniform distribution"
      ],
      "metadata": {
        "id": "gJweTXbMaajK"
      }
    },
    {
      "cell_type": "code",
      "source": [
        "X_norm = np.sqrt(-2*np.log(u1))*np.cos(2*np.pi*u2)\n",
        "Y_norm = np.sqrt(-2*np.log(u1))*np.sin(2*np.pi*u2)\n",
        "plt.hist(X_norm, label = 'X');\n",
        "plt.hist(Y_norm, label = 'Y');\n",
        "plt.legend();"
      ],
      "metadata": {
        "colab": {
          "base_uri": "https://localhost:8080/",
          "height": 265
        },
        "id": "NxAv13q67K6U",
        "outputId": "ce885337-04c0-453d-9679-9033029b5e17"
      },
      "execution_count": null,
      "outputs": [
        {
          "output_type": "display_data",
          "data": {
            "text/plain": [
              "<Figure size 432x288 with 1 Axes>"
            ],
            "image/png": "[encoded data removed]"
          },
          "metadata": {
            "needs_background": "light"
          }
        }
      ]
    },
    {
      "cell_type": "code",
      "source": [
        "plt.plot(X_norm, Y_norm, '.')\n",
        "plt.xlabel('X');\n",
        "plt.ylabel('Y');"
      ],
      "metadata": {
        "colab": {
          "base_uri": "https://localhost:8080/",
          "height": 278
        },
        "id": "FIKAuUvqpzvi",
        "outputId": "4e77b3ac-0c18-4e2d-d155-83aeca8b83e4"
      },
      "execution_count": null,
      "outputs": [
        {
          "output_type": "display_data",
          "data": {
            "text/plain": [
              "<Figure size 432x288 with 1 Axes>"
            ],
            "image/png": "[encoded data removed]"
          },
          "metadata": {
            "needs_background": "light"
          }
        }
      ]
    },
    {
      "cell_type": "code",
      "source": [
        "stats.kstest(X_norm, \"norm\") "
      ],
      "metadata": {
        "colab": {
          "base_uri": "https://localhost:8080/"
        },
        "id": "i9PHlEqHfw3X",
        "outputId": "0598c33f-b87c-4d92-a0d1-c0fd9e0bd59f"
      },
      "execution_count": null,
      "outputs": [
        {
          "output_type": "execute_result",
          "data": {
            "text/plain": [
              "KstestResult(statistic=0.05511366112990257, pvalue=0.9216707027895396)"
            ]
          },
          "metadata": {},
          "execution_count": 17
        }
      ]
    },
    {
      "cell_type": "markdown",
      "source": [
        "### Making a new sample of 100 values of the Kolmogorov normality test"
      ],
      "metadata": {
        "id": "Zcm4OTTma97_"
      }
    },
    {
      "cell_type": "code",
      "source": [
        "import statistics\n",
        "from scipy.stats import norm\n",
        "N = 100\n",
        "n = range(N)\n",
        "statistics_list = []\n",
        "for i in range(1,N*2+1,2):\n",
        "  u1 = np.array(generate(16807, 0x7fffffff, 0, i, N))/16807\n",
        "\n",
        "  u2 = np.array(generate(16807, 0x7fffffff, 0, i+1, N))/16807\n",
        "  X_norm = np.sqrt(-2*np.log(u1))*np.cos(2*np.pi*u2)\n",
        "  st, p = stats.kstest(X_norm, 'norm')\n",
        "  statistics_list.append(st)"
      ],
      "metadata": {
        "id": "_RnjBDuFxvYA"
      },
      "execution_count": 10,
      "outputs": []
    },
    {
      "cell_type": "code",
      "source": [
        "plt.hist(statistics_list, bins = 30, density = True);"
      ],
      "metadata": {
        "colab": {
          "base_uri": "https://localhost:8080/",
          "height": 265
        },
        "id": "LO5ghSKuzIRa",
        "outputId": "e20e1720-eae4-48af-e3d4-d75f354cfb0c"
      },
      "execution_count": 18,
      "outputs": [
        {
          "output_type": "display_data",
          "data": {
            "text/plain": [
              "<Figure size 432x288 with 1 Axes>"
            ],
            "image/png": "[encoded data removed]"
          },
          "metadata": {
            "needs_background": "light"
          }
        }
      ]
    },
    {
      "cell_type": "markdown",
      "source": [
        "**This sample has a Kolmogorov distribution**"
      ],
      "metadata": {
        "id": "Ont2w7gec0xb"
      }
    },
    {
      "cell_type": "markdown",
      "source": [
        "#Chi square test implementation and checking the distribution"
      ],
      "metadata": {
        "id": "glJ9xKL1NN5Z"
      }
    },
    {
      "cell_type": "code",
      "source": [
        "from scipy.stats import kstwobign\n",
        "import statistics\n",
        "\n",
        "K = len(statistics_list)\n",
        "\n",
        "m=statistics.mean(statistics_list)\n",
        "std_1=statistics.stdev(statistics_list)\n",
        "pmax=max(statistics_list);\n",
        "pmin=min(statistics_list);\n",
        "dis=(pmax-pmin)/4;\n",
        "num=[0]*5\n",
        "\n",
        "i=0;\n",
        "while i<5:\n",
        "  for j in range(i, K):\n",
        "    if (statistics_list[j]>=pmin) and (statistics_list[j]<pmin+dis):\n",
        "      num[i]=num[i]+1\n",
        "  pmin=pmin+dis\n",
        "  i=i+1\n",
        "\n",
        "pmin=min(statistics_list);\n",
        "\n",
        "F = [0]*5\n",
        "F[0]=kstwobign.cdf(pmin,m,std_1)\n",
        "F[1]=kstwobign.cdf(pmin+dis,m,std_1)\n",
        "F[2]=kstwobign.cdf(pmin+2*dis,m,std_1)\n",
        "F[3]=kstwobign.cdf(pmin+3*dis,m,std_1)\n",
        "# F[4]=kstwobign.cdf(pmin+4*dis,m,std_1)\n",
        "F[4]=kstwobign.cdf(pmax,m,std_1)\n",
        "\n",
        "\n",
        "p = [0]*5\n",
        "p[0] = F[0]\n",
        "for i in range(1,4):\n",
        "  p[i]=F[i]-F[i-1]\n",
        "p[4] = 1 - F[4]\n",
        "\n",
        "k = 0\n",
        "for i in range(5):\n",
        "  k = k+((num[i]-K*p[i])**2)/(K*p[i])\n",
        "print('The chi square value is ', k)"
      ],
      "metadata": {
        "id": "mulWFTWgIUUn",
        "colab": {
          "base_uri": "https://localhost:8080/"
        },
        "outputId": "81f8b968-79e7-465b-e392-0b9d33bbcfed"
      },
      "execution_count": 12,
      "outputs": [
        {
          "output_type": "stream",
          "name": "stdout",
          "text": [
            "The chi square value is  inf\n"
          ]
        },
        {
          "output_type": "stream",
          "name": "stderr",
          "text": [
            "/usr/local/lib/python3.7/dist-packages/ipykernel_launcher.py:40: RuntimeWarning: divide by zero encountered in double_scalars\n"
          ]
        }
      ]
    },
    {
      "cell_type": "markdown",
      "source": [
        "Here I get a mistake"
      ],
      "metadata": {
        "id": "LcJZADsviqZa"
      }
    },
    {
      "cell_type": "code",
      "source": [
        "p"
      ],
      "metadata": {
        "colab": {
          "base_uri": "https://localhost:8080/"
        },
        "id": "mp93LgcvoPa7",
        "outputId": "1fcb7324-8a1b-40c2-9c15-31c67bcae8f2"
      },
      "execution_count": 13,
      "outputs": [
        {
          "output_type": "execute_result",
          "data": {
            "text/plain": [
              "[0.0, 0.0, 0.0028753263907296107, 0.9777218085921773, 1.6912351806785964e-06]"
            ]
          },
          "metadata": {},
          "execution_count": 13
        }
      ]
    },
    {
      "cell_type": "code",
      "source": [
        "sum(p)"
      ],
      "metadata": {
        "colab": {
          "base_uri": "https://localhost:8080/"
        },
        "id": "rInyFmkdg_SU",
        "outputId": "c3a6aa68-8b95-4d99-92dc-4523da252bc4"
      },
      "execution_count": 14,
      "outputs": [
        {
          "output_type": "execute_result",
          "data": {
            "text/plain": [
              "0.9805988262180876"
            ]
          },
          "metadata": {},
          "execution_count": 14
        }
      ]
    },
    {
      "cell_type": "code",
      "source": [
        "num"
      ],
      "metadata": {
        "colab": {
          "base_uri": "https://localhost:8080/"
        },
        "id": "wp24Zqw8g_VH",
        "outputId": "ebf06049-e914-4c38-fb92-edff8f4a1049"
      },
      "execution_count": 15,
      "outputs": [
        {
          "output_type": "execute_result",
          "data": {
            "text/plain": [
              "[25, 44, 20, 8, 1]"
            ]
          },
          "metadata": {},
          "execution_count": 15
        }
      ]
    },
    {
      "cell_type": "code",
      "source": [
        "stats.kstest(statistics_list, 'norm')"
      ],
      "metadata": {
        "colab": {
          "base_uri": "https://localhost:8080/"
        },
        "id": "rJJodCWMiKyz",
        "outputId": "ac4450db-a66b-4c2a-af97-1262b9da4ca4"
      },
      "execution_count": null,
      "outputs": [
        {
          "output_type": "execute_result",
          "data": {
            "text/plain": [
              "KstestResult(statistic=0.7109458139539231, pvalue=1.656218397731384e-51)"
            ]
          },
          "metadata": {},
          "execution_count": 65
        }
      ]
    }
  ]
}